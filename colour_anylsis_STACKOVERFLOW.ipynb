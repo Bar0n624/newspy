{
 "cells": [
  {
   "cell_type": "code",
   "execution_count": 1,
   "metadata": {},
   "outputs": [
    {
     "name": "stdout",
     "output_type": "stream",
     "text": [
      "reading image\n",
      "finding clusters\n",
      "cluster centres:\n",
      " [[ 26.00169536  24.99582681  47.55542514 255.        ]\n",
      " [ 85.5484367   85.62327012 106.0302409  255.        ]\n",
      " [ 46.6616242   45.10589172  66.31687898 255.        ]\n",
      " [ 21.6459854   21.21240876  42.82992701 255.        ]\n",
      " [ 18.69681479  18.69943636  38.63730502 255.        ]]\n",
      "most frequent is [ 26.00169536  24.99582681  47.55542514 255.        ] (#1a182fff)\n"
     ]
    },
    {
     "name": "stderr",
     "output_type": "stream",
     "text": [
      "/var/folders/6v/cb2sfq3s1wz8glhnw6jk9lw40000gn/T/ipykernel_39074/1287776527.py:17: DeprecationWarning: scipy.product is deprecated and will be removed in SciPy 2.0.0, use numpy.product instead\n",
      "  ar = ar.reshape(scipy.product(shape[:2]), shape[2]).astype(float)\n",
      "/var/folders/6v/cb2sfq3s1wz8glhnw6jk9lw40000gn/T/ipykernel_39074/1287776527.py:24: DeprecationWarning: scipy.histogram is deprecated and will be removed in SciPy 2.0.0, use numpy.histogram instead\n",
      "  counts, bins = scipy.histogram(vecs, len(codes))    # count occurrences\n",
      "/var/folders/6v/cb2sfq3s1wz8glhnw6jk9lw40000gn/T/ipykernel_39074/1287776527.py:26: DeprecationWarning: scipy.argmax is deprecated and will be removed in SciPy 2.0.0, use numpy.argmax instead\n",
      "  index_max = scipy.argmax(counts)                    # find most frequent\n"
     ]
    }
   ],
   "source": [
    "from __future__ import print_function\n",
    "import binascii\n",
    "import struct\n",
    "from PIL import Image\n",
    "import numpy as np\n",
    "import scipy\n",
    "import scipy.misc\n",
    "import scipy.cluster\n",
    "\n",
    "NUM_CLUSTERS = 5\n",
    "\n",
    "print('reading image')\n",
    "im = Image.open('bgp.png')\n",
    "im = im.resize((150, 150))      # optional, to reduce time\n",
    "ar = np.asarray(im)\n",
    "shape = ar.shape\n",
    "ar = ar.reshape(scipy.product(shape[:2]), shape[2]).astype(float)\n",
    "\n",
    "print('finding clusters')\n",
    "codes, dist = scipy.cluster.vq.kmeans(ar, NUM_CLUSTERS)\n",
    "print('cluster centres:\\n', codes)\n",
    "\n",
    "vecs, dist = scipy.cluster.vq.vq(ar, codes)         # assign codes\n",
    "counts, bins = scipy.histogram(vecs, len(codes))    # count occurrences\n",
    "\n",
    "index_max = scipy.argmax(counts)                    # find most frequent\n",
    "peak = codes[index_max]\n",
    "colour = binascii.hexlify(bytearray(int(c) for c in peak)).decode('ascii')\n",
    "print('most frequent is %s (#%s)' % (peak, colour))\n",
    "# 231f20   "
   ]
  },
  {
   "cell_type": "code",
   "execution_count": null,
   "metadata": {},
   "outputs": [],
   "source": []
  }
 ],
 "metadata": {
  "kernelspec": {
   "display_name": "Python 3",
   "language": "python",
   "name": "python3"
  },
  "language_info": {
   "codemirror_mode": {
    "name": "ipython",
    "version": 3
   },
   "file_extension": ".py",
   "mimetype": "text/x-python",
   "name": "python",
   "nbconvert_exporter": "python",
   "pygments_lexer": "ipython3",
   "version": "3.11.0 (v3.11.0:deaf509e8f, Oct 24 2022, 14:43:23) [Clang 13.0.0 (clang-1300.0.29.30)]"
  },
  "orig_nbformat": 4,
  "vscode": {
   "interpreter": {
    "hash": "aee8b7b246df8f9039afb4144a1f6fd8d2ca17a180786b69acc140d282b71a49"
   }
  }
 },
 "nbformat": 4,
 "nbformat_minor": 2
}
